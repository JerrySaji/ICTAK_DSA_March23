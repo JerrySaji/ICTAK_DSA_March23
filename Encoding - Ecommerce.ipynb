{
 "cells": [
  {
   "cell_type": "markdown",
   "id": "c096975d",
   "metadata": {},
   "source": [
    "# <font color = brown> Group Members"
   ]
  },
  {
   "cell_type": "markdown",
   "id": "a6f89168",
   "metadata": {},
   "source": [
    "### <font color = red> Ardra\n",
    "    \n",
    "### <font color = red> Jerry\n",
    "    \n",
    "### <font color = red> Princy\n",
    "    \n",
    "### <font color = red> Sreejayan\n",
    "    \n",
    "### <font color = red> Sruthy\n",
    "    \n",
    "### <font color = red> Thoufira"
   ]
  },
  {
   "cell_type": "code",
   "execution_count": 1,
   "id": "acb641c1",
   "metadata": {},
   "outputs": [],
   "source": [
    "import numpy as np\n",
    "import pandas as pd\n",
    "import matplotlib.pyplot as plt\n",
    "import seaborn as sns"
   ]
  },
  {
   "cell_type": "code",
   "execution_count": 2,
   "id": "3bd7648c",
   "metadata": {},
   "outputs": [],
   "source": [
    "data =pd.read_excel(r\"D:\\ICTAK\\E-commerce.xlsx\")"
   ]
  },
  {
   "cell_type": "code",
   "execution_count": 3,
   "id": "be97dc0a",
   "metadata": {},
   "outputs": [
    {
     "data": {
      "text/html": [
       "<div>\n",
       "<style scoped>\n",
       "    .dataframe tbody tr th:only-of-type {\n",
       "        vertical-align: middle;\n",
       "    }\n",
       "\n",
       "    .dataframe tbody tr th {\n",
       "        vertical-align: top;\n",
       "    }\n",
       "\n",
       "    .dataframe thead th {\n",
       "        text-align: right;\n",
       "    }\n",
       "</style>\n",
       "<table border=\"1\" class=\"dataframe\">\n",
       "  <thead>\n",
       "    <tr style=\"text-align: right;\">\n",
       "      <th></th>\n",
       "      <th>server_time</th>\n",
       "      <th>device_type</th>\n",
       "      <th>user_id</th>\n",
       "      <th>session_id</th>\n",
       "      <th>item_id</th>\n",
       "      <th>item_price</th>\n",
       "      <th>category</th>\n",
       "      <th>product_type</th>\n",
       "      <th>impression_time</th>\n",
       "      <th>app_code</th>\n",
       "      <th>os_version</th>\n",
       "      <th>is_4G</th>\n",
       "      <th>is_click</th>\n",
       "    </tr>\n",
       "  </thead>\n",
       "  <tbody>\n",
       "    <tr>\n",
       "      <th>0</th>\n",
       "      <td>2018-10-18 14:27:00</td>\n",
       "      <td>android</td>\n",
       "      <td>87862.0</td>\n",
       "      <td>268465.0</td>\n",
       "      <td>44459.0</td>\n",
       "      <td>4602.0</td>\n",
       "      <td>11.0</td>\n",
       "      <td>3040.0</td>\n",
       "      <td>2018-11-15 00:00:00</td>\n",
       "      <td>422.0</td>\n",
       "      <td>old</td>\n",
       "      <td>0</td>\n",
       "      <td>0</td>\n",
       "    </tr>\n",
       "    <tr>\n",
       "      <th>1</th>\n",
       "      <td>2018-10-18 14:27:00</td>\n",
       "      <td>android</td>\n",
       "      <td>63410.0</td>\n",
       "      <td>268465.0</td>\n",
       "      <td>44459.0</td>\n",
       "      <td>3513.0</td>\n",
       "      <td>12.0</td>\n",
       "      <td>6822.0</td>\n",
       "      <td>2018-11-15 00:01:00</td>\n",
       "      <td>467.0</td>\n",
       "      <td>latest</td>\n",
       "      <td>1</td>\n",
       "      <td>1</td>\n",
       "    </tr>\n",
       "    <tr>\n",
       "      <th>2</th>\n",
       "      <td>2018-10-18 14:43:00</td>\n",
       "      <td>android</td>\n",
       "      <td>71748.0</td>\n",
       "      <td>268465.0</td>\n",
       "      <td>44459.0</td>\n",
       "      <td>825.0</td>\n",
       "      <td>17.0</td>\n",
       "      <td>1619.0</td>\n",
       "      <td>2018-11-15 00:02:00</td>\n",
       "      <td>259.0</td>\n",
       "      <td>intermediate</td>\n",
       "      <td>1</td>\n",
       "      <td>0</td>\n",
       "    </tr>\n",
       "    <tr>\n",
       "      <th>3</th>\n",
       "      <td>2018-10-18 14:46:00</td>\n",
       "      <td>android</td>\n",
       "      <td>69209.0</td>\n",
       "      <td>268465.0</td>\n",
       "      <td>44459.0</td>\n",
       "      <td>2355.0</td>\n",
       "      <td>13.0</td>\n",
       "      <td>5264.0</td>\n",
       "      <td>2018-11-15 00:02:00</td>\n",
       "      <td>244.0</td>\n",
       "      <td>latest</td>\n",
       "      <td>1</td>\n",
       "      <td>0</td>\n",
       "    </tr>\n",
       "    <tr>\n",
       "      <th>4</th>\n",
       "      <td>2018-10-18 14:46:00</td>\n",
       "      <td>android</td>\n",
       "      <td>62873.0</td>\n",
       "      <td>268465.0</td>\n",
       "      <td>44459.0</td>\n",
       "      <td>1267.0</td>\n",
       "      <td>17.0</td>\n",
       "      <td>10239.0</td>\n",
       "      <td>2018-11-15 00:02:00</td>\n",
       "      <td>473.0</td>\n",
       "      <td>latest</td>\n",
       "      <td>0</td>\n",
       "      <td>0</td>\n",
       "    </tr>\n",
       "  </tbody>\n",
       "</table>\n",
       "</div>"
      ],
      "text/plain": [
       "          server_time device_type  user_id  session_id  item_id  item_price  \\\n",
       "0 2018-10-18 14:27:00     android  87862.0    268465.0  44459.0      4602.0   \n",
       "1 2018-10-18 14:27:00     android  63410.0    268465.0  44459.0      3513.0   \n",
       "2 2018-10-18 14:43:00     android  71748.0    268465.0  44459.0       825.0   \n",
       "3 2018-10-18 14:46:00     android  69209.0    268465.0  44459.0      2355.0   \n",
       "4 2018-10-18 14:46:00     android  62873.0    268465.0  44459.0      1267.0   \n",
       "\n",
       "   category  product_type     impression_time  app_code    os_version  is_4G  \\\n",
       "0      11.0        3040.0 2018-11-15 00:00:00     422.0           old      0   \n",
       "1      12.0        6822.0 2018-11-15 00:01:00     467.0        latest      1   \n",
       "2      17.0        1619.0 2018-11-15 00:02:00     259.0  intermediate      1   \n",
       "3      13.0        5264.0 2018-11-15 00:02:00     244.0        latest      1   \n",
       "4      17.0       10239.0 2018-11-15 00:02:00     473.0        latest      0   \n",
       "\n",
       "   is_click  \n",
       "0         0  \n",
       "1         1  \n",
       "2         0  \n",
       "3         0  \n",
       "4         0  "
      ]
     },
     "execution_count": 3,
     "metadata": {},
     "output_type": "execute_result"
    }
   ],
   "source": [
    "data.head()"
   ]
  },
  {
   "cell_type": "code",
   "execution_count": 4,
   "id": "d9f711a6",
   "metadata": {},
   "outputs": [
    {
     "data": {
      "text/plain": [
       "(2025, 13)"
      ]
     },
     "execution_count": 4,
     "metadata": {},
     "output_type": "execute_result"
    }
   ],
   "source": [
    "data.shape"
   ]
  },
  {
   "cell_type": "code",
   "execution_count": 5,
   "id": "f537c0c4",
   "metadata": {},
   "outputs": [
    {
     "name": "stdout",
     "output_type": "stream",
     "text": [
      "<class 'pandas.core.frame.DataFrame'>\n",
      "RangeIndex: 2025 entries, 0 to 2024\n",
      "Data columns (total 13 columns):\n",
      " #   Column           Non-Null Count  Dtype         \n",
      "---  ------           --------------  -----         \n",
      " 0   server_time      2025 non-null   datetime64[ns]\n",
      " 1   device_type      2025 non-null   object        \n",
      " 2   user_id          2022 non-null   float64       \n",
      " 3   session_id       2024 non-null   float64       \n",
      " 4   item_id          2023 non-null   float64       \n",
      " 5   item_price       2024 non-null   float64       \n",
      " 6   category         2019 non-null   float64       \n",
      " 7   product_type     2024 non-null   float64       \n",
      " 8   impression_time  2025 non-null   datetime64[ns]\n",
      " 9   app_code         2024 non-null   float64       \n",
      " 10  os_version       2016 non-null   object        \n",
      " 11  is_4G            2025 non-null   int64         \n",
      " 12  is_click         2025 non-null   int64         \n",
      "dtypes: datetime64[ns](2), float64(7), int64(2), object(2)\n",
      "memory usage: 205.8+ KB\n"
     ]
    }
   ],
   "source": [
    "data.info()"
   ]
  },
  {
   "cell_type": "code",
   "execution_count": 6,
   "id": "a8a12128",
   "metadata": {},
   "outputs": [
    {
     "data": {
      "text/html": [
       "<div>\n",
       "<style scoped>\n",
       "    .dataframe tbody tr th:only-of-type {\n",
       "        vertical-align: middle;\n",
       "    }\n",
       "\n",
       "    .dataframe tbody tr th {\n",
       "        vertical-align: top;\n",
       "    }\n",
       "\n",
       "    .dataframe thead th {\n",
       "        text-align: right;\n",
       "    }\n",
       "</style>\n",
       "<table border=\"1\" class=\"dataframe\">\n",
       "  <thead>\n",
       "    <tr style=\"text-align: right;\">\n",
       "      <th></th>\n",
       "      <th>user_id</th>\n",
       "      <th>session_id</th>\n",
       "      <th>item_id</th>\n",
       "      <th>item_price</th>\n",
       "      <th>category</th>\n",
       "      <th>product_type</th>\n",
       "      <th>app_code</th>\n",
       "      <th>is_4G</th>\n",
       "      <th>is_click</th>\n",
       "    </tr>\n",
       "  </thead>\n",
       "  <tbody>\n",
       "    <tr>\n",
       "      <th>count</th>\n",
       "      <td>2022.000000</td>\n",
       "      <td>2.024000e+03</td>\n",
       "      <td>2023.000000</td>\n",
       "      <td>2024.000000</td>\n",
       "      <td>2019.000000</td>\n",
       "      <td>2024.000000</td>\n",
       "      <td>2024.000000</td>\n",
       "      <td>2025.000000</td>\n",
       "      <td>2025.000000</td>\n",
       "    </tr>\n",
       "    <tr>\n",
       "      <th>mean</th>\n",
       "      <td>46714.461919</td>\n",
       "      <td>5.473724e+05</td>\n",
       "      <td>63505.154721</td>\n",
       "      <td>6661.115119</td>\n",
       "      <td>10.290738</td>\n",
       "      <td>5359.607213</td>\n",
       "      <td>244.741107</td>\n",
       "      <td>0.342222</td>\n",
       "      <td>0.049877</td>\n",
       "    </tr>\n",
       "    <tr>\n",
       "      <th>std</th>\n",
       "      <td>26401.598808</td>\n",
       "      <td>3.108620e+05</td>\n",
       "      <td>36830.177344</td>\n",
       "      <td>17296.372880</td>\n",
       "      <td>4.961514</td>\n",
       "      <td>3076.114288</td>\n",
       "      <td>124.477650</td>\n",
       "      <td>0.474571</td>\n",
       "      <td>0.217744</td>\n",
       "    </tr>\n",
       "    <tr>\n",
       "      <th>min</th>\n",
       "      <td>10.000000</td>\n",
       "      <td>1.694000e+03</td>\n",
       "      <td>176.000000</td>\n",
       "      <td>16.000000</td>\n",
       "      <td>0.000000</td>\n",
       "      <td>6.000000</td>\n",
       "      <td>1.000000</td>\n",
       "      <td>0.000000</td>\n",
       "      <td>0.000000</td>\n",
       "    </tr>\n",
       "    <tr>\n",
       "      <th>25%</th>\n",
       "      <td>24853.000000</td>\n",
       "      <td>2.738070e+05</td>\n",
       "      <td>33845.500000</td>\n",
       "      <td>1465.000000</td>\n",
       "      <td>7.000000</td>\n",
       "      <td>2758.750000</td>\n",
       "      <td>190.000000</td>\n",
       "      <td>0.000000</td>\n",
       "      <td>0.000000</td>\n",
       "    </tr>\n",
       "    <tr>\n",
       "      <th>50%</th>\n",
       "      <td>46248.000000</td>\n",
       "      <td>5.440370e+05</td>\n",
       "      <td>62896.000000</td>\n",
       "      <td>2425.000000</td>\n",
       "      <td>11.000000</td>\n",
       "      <td>5355.500000</td>\n",
       "      <td>207.000000</td>\n",
       "      <td>0.000000</td>\n",
       "      <td>0.000000</td>\n",
       "    </tr>\n",
       "    <tr>\n",
       "      <th>75%</th>\n",
       "      <td>69375.500000</td>\n",
       "      <td>7.996875e+05</td>\n",
       "      <td>91322.000000</td>\n",
       "      <td>4793.000000</td>\n",
       "      <td>14.000000</td>\n",
       "      <td>8121.000000</td>\n",
       "      <td>371.000000</td>\n",
       "      <td>1.000000</td>\n",
       "      <td>0.000000</td>\n",
       "    </tr>\n",
       "    <tr>\n",
       "      <th>max</th>\n",
       "      <td>92508.000000</td>\n",
       "      <td>1.089219e+06</td>\n",
       "      <td>132865.000000</td>\n",
       "      <td>239360.000000</td>\n",
       "      <td>17.000000</td>\n",
       "      <td>10573.000000</td>\n",
       "      <td>508.000000</td>\n",
       "      <td>1.000000</td>\n",
       "      <td>1.000000</td>\n",
       "    </tr>\n",
       "  </tbody>\n",
       "</table>\n",
       "</div>"
      ],
      "text/plain": [
       "            user_id    session_id        item_id     item_price     category  \\\n",
       "count   2022.000000  2.024000e+03    2023.000000    2024.000000  2019.000000   \n",
       "mean   46714.461919  5.473724e+05   63505.154721    6661.115119    10.290738   \n",
       "std    26401.598808  3.108620e+05   36830.177344   17296.372880     4.961514   \n",
       "min       10.000000  1.694000e+03     176.000000      16.000000     0.000000   \n",
       "25%    24853.000000  2.738070e+05   33845.500000    1465.000000     7.000000   \n",
       "50%    46248.000000  5.440370e+05   62896.000000    2425.000000    11.000000   \n",
       "75%    69375.500000  7.996875e+05   91322.000000    4793.000000    14.000000   \n",
       "max    92508.000000  1.089219e+06  132865.000000  239360.000000    17.000000   \n",
       "\n",
       "       product_type     app_code        is_4G     is_click  \n",
       "count   2024.000000  2024.000000  2025.000000  2025.000000  \n",
       "mean    5359.607213   244.741107     0.342222     0.049877  \n",
       "std     3076.114288   124.477650     0.474571     0.217744  \n",
       "min        6.000000     1.000000     0.000000     0.000000  \n",
       "25%     2758.750000   190.000000     0.000000     0.000000  \n",
       "50%     5355.500000   207.000000     0.000000     0.000000  \n",
       "75%     8121.000000   371.000000     1.000000     0.000000  \n",
       "max    10573.000000   508.000000     1.000000     1.000000  "
      ]
     },
     "execution_count": 6,
     "metadata": {},
     "output_type": "execute_result"
    }
   ],
   "source": [
    "data.describe()"
   ]
  },
  {
   "cell_type": "code",
   "execution_count": 7,
   "id": "1db2f440",
   "metadata": {},
   "outputs": [
    {
     "data": {
      "text/plain": [
       "server_time        0\n",
       "device_type        0\n",
       "user_id            3\n",
       "session_id         1\n",
       "item_id            2\n",
       "item_price         1\n",
       "category           6\n",
       "product_type       1\n",
       "impression_time    0\n",
       "app_code           1\n",
       "os_version         9\n",
       "is_4G              0\n",
       "is_click           0\n",
       "dtype: int64"
      ]
     },
     "execution_count": 7,
     "metadata": {},
     "output_type": "execute_result"
    }
   ],
   "source": [
    "data.isna().sum()"
   ]
  },
  {
   "cell_type": "code",
   "execution_count": 8,
   "id": "ffe8a6b9",
   "metadata": {},
   "outputs": [
    {
     "data": {
      "image/png": "[encoded data removed]",
      "text/plain": [
       "<Figure size 2000x1500 with 9 Axes>"
      ]
     },
     "metadata": {},
     "output_type": "display_data"
    }
   ],
   "source": [
    "freqgraph = data.select_dtypes(include=['float'])\n",
    "freqgraph.hist(figsize=(20,15))\n",
    "plt.show()"
   ]
  },
  {
   "cell_type": "code",
   "execution_count": 9,
   "id": "7b9874b0",
   "metadata": {},
   "outputs": [
    {
     "data": {
      "text/plain": [
       "Index(['server_time', 'device_type', 'user_id', 'session_id', 'item_id',\n",
       "       'item_price', 'category', 'product_type', 'impression_time', 'app_code',\n",
       "       'os_version', 'is_4G', 'is_click'],\n",
       "      dtype='object')"
      ]
     },
     "execution_count": 9,
     "metadata": {},
     "output_type": "execute_result"
    }
   ],
   "source": [
    "data.columns"
   ]
  },
  {
   "cell_type": "code",
   "execution_count": 10,
   "id": "fb50bc00",
   "metadata": {},
   "outputs": [],
   "source": [
    "for col in ['user_id', 'session_id', 'item_id','product_type','app_code']:\n",
    "    data[col] = data[col].fillna(data[col].mean())"
   ]
  },
  {
   "cell_type": "code",
   "execution_count": 11,
   "id": "4f21c0bf",
   "metadata": {},
   "outputs": [],
   "source": [
    "for i in ['item_price', 'category']:\n",
    "    data[i] = data[i].fillna(data[i].median())"
   ]
  },
  {
   "cell_type": "code",
   "execution_count": 12,
   "id": "af78d700",
   "metadata": {},
   "outputs": [],
   "source": [
    "data['os_version'] = data['os_version'].fillna(data['os_version'].mode())"
   ]
  },
  {
   "cell_type": "code",
   "execution_count": 13,
   "id": "f367f702",
   "metadata": {},
   "outputs": [
    {
     "data": {
      "text/plain": [
       "server_time        0\n",
       "device_type        0\n",
       "user_id            0\n",
       "session_id         0\n",
       "item_id            0\n",
       "item_price         0\n",
       "category           0\n",
       "product_type       0\n",
       "impression_time    0\n",
       "app_code           0\n",
       "os_version         9\n",
       "is_4G              0\n",
       "is_click           0\n",
       "dtype: int64"
      ]
     },
     "execution_count": 13,
     "metadata": {},
     "output_type": "execute_result"
    }
   ],
   "source": [
    "data.isna().sum()"
   ]
  },
  {
   "cell_type": "code",
   "execution_count": 14,
   "id": "996c64e0",
   "metadata": {
    "scrolled": false
   },
   "outputs": [
    {
     "data": {
      "image/png": "[encoded data removed]",
      "text/plain": [
       "<Figure size 640x480 with 1 Axes>"
      ]
     },
     "metadata": {},
     "output_type": "display_data"
    },
    {
     "data": {
      "image/png": "[encoded data removed]",
      "text/plain": [
       "<Figure size 640x480 with 1 Axes>"
      ]
     },
     "metadata": {},
     "output_type": "display_data"
    },
    {
     "data": {
      "image/png": "[encoded data removed]",
      "text/plain": [
       "<Figure size 640x480 with 1 Axes>"
      ]
     },
     "metadata": {},
     "output_type": "display_data"
    },
    {
     "data": {
      "image/png": "[encoded data removed]",
      "text/plain": [
       "<Figure size 640x480 with 1 Axes>"
      ]
     },
     "metadata": {},
     "output_type": "display_data"
    },
    {
     "data": {
      "image/png": "[encoded data removed]",
      "text/plain": [
       "<Figure size 640x480 with 1 Axes>"
      ]
     },
     "metadata": {},
     "output_type": "display_data"
    },
    {
     "data": {
      "image/png": "[encoded data removed]",
      "text/plain": [
       "<Figure size 640x480 with 1 Axes>"
      ]
     },
     "metadata": {},
     "output_type": "display_data"
    },
    {
     "data": {
      "image/png": "[encoded data removed]",
      "text/plain": [
       "<Figure size 640x480 with 1 Axes>"
      ]
     },
     "metadata": {},
     "output_type": "display_data"
    }
   ],
   "source": [
    "for i in data.columns:\n",
    "    if data[i].dtype == float:\n",
    "        plt.figure()\n",
    "        sns.boxplot(data[i])\n",
    "        plt.title(i)\n",
    "        plt.show()"
   ]
  },
  {
   "cell_type": "markdown",
   "id": "dd128acf",
   "metadata": {},
   "source": [
    "#### Here we can see that there is outliers in the column 'item_price'."
   ]
  },
  {
   "cell_type": "code",
   "execution_count": 15,
   "id": "3a9558fa",
   "metadata": {},
   "outputs": [],
   "source": [
    "Q1 = np.percentile(data['item_price'],25,method='midpoint')\n",
    "Q2 = np.percentile(data['item_price'],50,method='midpoint')\n",
    "Q3 = np.percentile(data['item_price'],75,method='midpoint')"
   ]
  },
  {
   "cell_type": "code",
   "execution_count": 16,
   "id": "603af6e0",
   "metadata": {},
   "outputs": [
    {
     "name": "stdout",
     "output_type": "stream",
     "text": [
      "1465.0\n",
      "2425.0\n",
      "4793.0\n"
     ]
    }
   ],
   "source": [
    "print(Q1)\n",
    "print(Q2)\n",
    "print(Q3)"
   ]
  },
  {
   "cell_type": "code",
   "execution_count": 17,
   "id": "69334605",
   "metadata": {},
   "outputs": [
    {
     "data": {
      "text/plain": [
       "3328.0"
      ]
     },
     "execution_count": 17,
     "metadata": {},
     "output_type": "execute_result"
    }
   ],
   "source": [
    "IQR = Q3 - Q1\n",
    "IQR"
   ]
  },
  {
   "cell_type": "code",
   "execution_count": 18,
   "id": "6ae42b33",
   "metadata": {},
   "outputs": [
    {
     "data": {
      "text/plain": [
       "9785.0"
      ]
     },
     "execution_count": 18,
     "metadata": {},
     "output_type": "execute_result"
    }
   ],
   "source": [
    "up_lim = Q3 + 1.5 * IQR\n",
    "up_lim"
   ]
  },
  {
   "cell_type": "code",
   "execution_count": 19,
   "id": "9ddb3800",
   "metadata": {},
   "outputs": [
    {
     "data": {
      "text/plain": [
       "-3527.0"
      ]
     },
     "execution_count": 19,
     "metadata": {},
     "output_type": "execute_result"
    }
   ],
   "source": [
    "low_lim = Q1 - 1.5 * IQR\n",
    "low_lim"
   ]
  },
  {
   "cell_type": "markdown",
   "id": "1d6579d1",
   "metadata": {},
   "source": [
    "#### We can see that there are no outliers below 0. So we need to find the outliersabove the upper limit. "
   ]
  },
  {
   "cell_type": "code",
   "execution_count": 20,
   "id": "bc3c7e23",
   "metadata": {},
   "outputs": [],
   "source": [
    "outliers = []\n",
    "for x in data['item_price']:\n",
    "    if(x > up_lim) or (x<low_lim):\n",
    "        outliers.append(x)"
   ]
  },
  {
   "cell_type": "code",
   "execution_count": 21,
   "id": "b4e54258",
   "metadata": {
    "scrolled": false
   },
   "outputs": [
    {
     "data": {
      "text/plain": [
       "[18118.0,\n",
       " 17856.0,\n",
       " 17222.0,\n",
       " 11462.0,\n",
       " 10246.0,\n",
       " 23040.0,\n",
       " 10822.0,\n",
       " 10816.0,\n",
       " 11712.0,\n",
       " 12221.0,\n",
       " 46656.0,\n",
       " 20492.0,\n",
       " 85760.0,\n",
       " 9990.0,\n",
       " 54336.0,\n",
       " 15296.0,\n",
       " 13984.0,\n",
       " 33984.0,\n",
       " 13420.0,\n",
       " 19526.0,\n",
       " 51136.0,\n",
       " 9959.0,\n",
       " 10758.0,\n",
       " 10886.0,\n",
       " 25472.0,\n",
       " 35136.0,\n",
       " 11404.0,\n",
       " 11456.0,\n",
       " 99507.0,\n",
       " 12280.0,\n",
       " 53625.0,\n",
       " 18668.0,\n",
       " 22208.0,\n",
       " 21409.0,\n",
       " 83776.0,\n",
       " 14906.0,\n",
       " 18557.0,\n",
       " 130154.0,\n",
       " 20416.0,\n",
       " 14080.0,\n",
       " 117849.0,\n",
       " 17222.0,\n",
       " 178099.0,\n",
       " 165665.0,\n",
       " 11369.0,\n",
       " 32576.0,\n",
       " 10240.0,\n",
       " 14016.0,\n",
       " 41369.0,\n",
       " 16416.0,\n",
       " 63936.0,\n",
       " 10087.0,\n",
       " 10310.0,\n",
       " 12096.0,\n",
       " 10298.0,\n",
       " 21120.0,\n",
       " 26956.0,\n",
       " 13000.0,\n",
       " 16960.0,\n",
       " 152652.0,\n",
       " 16128.0,\n",
       " 47936.0,\n",
       " 10039.0,\n",
       " 19008.0,\n",
       " 9792.0,\n",
       " 27545.0,\n",
       " 20160.0,\n",
       " 10310.0,\n",
       " 18278.0,\n",
       " 165665.0,\n",
       " 96768.0,\n",
       " 10816.0,\n",
       " 14656.0,\n",
       " 64000.0,\n",
       " 37916.0,\n",
       " 70336.0,\n",
       " 27400.0,\n",
       " 24969.0,\n",
       " 15808.0,\n",
       " 15296.0,\n",
       " 40256.0,\n",
       " 12672.0,\n",
       " 49016.0,\n",
       " 61056.0,\n",
       " 15968.0,\n",
       " 22348.0,\n",
       " 17665.0,\n",
       " 22912.0,\n",
       " 16265.0,\n",
       " 47360.0,\n",
       " 20428.0,\n",
       " 12736.0,\n",
       " 21248.0,\n",
       " 11392.0,\n",
       " 32808.0,\n",
       " 27443.0,\n",
       " 10771.0,\n",
       " 10944.0,\n",
       " 11008.0,\n",
       " 17664.0,\n",
       " 31040.0,\n",
       " 20416.0,\n",
       " 18346.0,\n",
       " 15232.0,\n",
       " 15936.0,\n",
       " 20505.0,\n",
       " 12793.0,\n",
       " 43968.0,\n",
       " 134122.0,\n",
       " 11136.0,\n",
       " 10586.0,\n",
       " 16704.0,\n",
       " 12608.0,\n",
       " 28108.0,\n",
       " 101760.0,\n",
       " 16416.0,\n",
       " 23360.0,\n",
       " 70336.0,\n",
       " 15296.0,\n",
       " 56256.0,\n",
       " 38336.0,\n",
       " 20672.0,\n",
       " 95172.0,\n",
       " 209825.0,\n",
       " 34150.0,\n",
       " 106624.0,\n",
       " 10240.0,\n",
       " 10176.0,\n",
       " 33299.0,\n",
       " 25459.0,\n",
       " 21811.0,\n",
       " 162462.0,\n",
       " 10112.0,\n",
       " 17318.0,\n",
       " 72320.0,\n",
       " 12885.0,\n",
       " 11456.0,\n",
       " 27091.0,\n",
       " 12038.0,\n",
       " 17006.0,\n",
       " 76160.0,\n",
       " 31936.0,\n",
       " 10176.0,\n",
       " 16704.0,\n",
       " 10310.0,\n",
       " 35004.0,\n",
       " 12729.0,\n",
       " 82624.0,\n",
       " 33728.0,\n",
       " 14976.0,\n",
       " 28224.0,\n",
       " 19219.0,\n",
       " 41088.0,\n",
       " 152320.0,\n",
       " 35136.0,\n",
       " 10137.0,\n",
       " 48064.0,\n",
       " 44736.0,\n",
       " 51206.0,\n",
       " 56473.0,\n",
       " 24364.0,\n",
       " 82963.0,\n",
       " 15296.0,\n",
       " 14656.0,\n",
       " 9792.0,\n",
       " 17792.0,\n",
       " 154944.0,\n",
       " 27417.0,\n",
       " 20160.0,\n",
       " 10064.0,\n",
       " 26144.0,\n",
       " 52147.0,\n",
       " 10499.0,\n",
       " 11456.0,\n",
       " 19756.0,\n",
       " 11052.0,\n",
       " 22924.0,\n",
       " 146304.0,\n",
       " 37114.0,\n",
       " 127360.0,\n",
       " 24710.0,\n",
       " 42058.0,\n",
       " 239360.0,\n",
       " 14841.0,\n",
       " 12153.0,\n",
       " 26176.0,\n",
       " 95328.0,\n",
       " 60928.0,\n",
       " 12185.0,\n",
       " 57873.0,\n",
       " 28736.0,\n",
       " 12032.0,\n",
       " 15232.0,\n",
       " 46038.0,\n",
       " 123488.0,\n",
       " 33875.0,\n",
       " 16576.0,\n",
       " 10064.0,\n",
       " 14342.0,\n",
       " 29651.0,\n",
       " 22336.0,\n",
       " 10736.0,\n",
       " 19008.0,\n",
       " 60928.0,\n",
       " 14656.0,\n",
       " 12672.0,\n",
       " 10886.0,\n",
       " 12092.0,\n",
       " 18284.0,\n",
       " 12992.0,\n",
       " 12096.0,\n",
       " 12373.0,\n",
       " 15296.0,\n",
       " 16320.0,\n",
       " 13248.0,\n",
       " 10246.0,\n",
       " 10310.0,\n",
       " 12928.0,\n",
       " 18777.0,\n",
       " 14144.0,\n",
       " 63288.0,\n",
       " 15449.0,\n",
       " 63948.0,\n",
       " 17856.0,\n",
       " 19776.0,\n",
       " 166355.0,\n",
       " 15721.0,\n",
       " 13132.0,\n",
       " 47488.0,\n",
       " 13975.0,\n",
       " 85248.0,\n",
       " 19136.0,\n",
       " 19136.0,\n",
       " 20291.0,\n",
       " 13491.0,\n",
       " 38336.0,\n",
       " 10758.0,\n",
       " 10240.0,\n",
       " 10310.0,\n",
       " 10800.0,\n",
       " 14400.0,\n",
       " 23372.0,\n",
       " 10886.0,\n",
       " 10252.0,\n",
       " 10246.0]"
      ]
     },
     "execution_count": 21,
     "metadata": {},
     "output_type": "execute_result"
    }
   ],
   "source": [
    "outliers"
   ]
  },
  {
   "cell_type": "code",
   "execution_count": 22,
   "id": "fbedd512",
   "metadata": {
    "scrolled": false
   },
   "outputs": [
    {
     "data": {
      "text/plain": [
       "[6,\n",
       " 7,\n",
       " 31,\n",
       " 34,\n",
       " 49,\n",
       " 51,\n",
       " 63,\n",
       " 68,\n",
       " 74,\n",
       " 86,\n",
       " 90,\n",
       " 107,\n",
       " 110,\n",
       " 113,\n",
       " 114,\n",
       " 122,\n",
       " 127,\n",
       " 138,\n",
       " 146,\n",
       " 161,\n",
       " 176,\n",
       " 179,\n",
       " 184,\n",
       " 191,\n",
       " 228,\n",
       " 242,\n",
       " 290,\n",
       " 294,\n",
       " 314,\n",
       " 325,\n",
       " 328,\n",
       " 352,\n",
       " 353,\n",
       " 368,\n",
       " 370,\n",
       " 386,\n",
       " 399,\n",
       " 419,\n",
       " 423,\n",
       " 428,\n",
       " 442,\n",
       " 447,\n",
       " 453,\n",
       " 458,\n",
       " 463,\n",
       " 464,\n",
       " 465,\n",
       " 467,\n",
       " 471,\n",
       " 472,\n",
       " 475,\n",
       " 478,\n",
       " 481,\n",
       " 493,\n",
       " 512,\n",
       " 538,\n",
       " 543,\n",
       " 561,\n",
       " 577,\n",
       " 581,\n",
       " 584,\n",
       " 595,\n",
       " 596,\n",
       " 598,\n",
       " 600,\n",
       " 603,\n",
       " 610,\n",
       " 639,\n",
       " 643,\n",
       " 644,\n",
       " 651,\n",
       " 663,\n",
       " 664,\n",
       " 669,\n",
       " 679,\n",
       " 688,\n",
       " 713,\n",
       " 715,\n",
       " 722,\n",
       " 726,\n",
       " 732,\n",
       " 736,\n",
       " 752,\n",
       " 767,\n",
       " 778,\n",
       " 800,\n",
       " 801,\n",
       " 840,\n",
       " 846,\n",
       " 849,\n",
       " 859,\n",
       " 865,\n",
       " 888,\n",
       " 900,\n",
       " 912,\n",
       " 925,\n",
       " 929,\n",
       " 942,\n",
       " 949,\n",
       " 953,\n",
       " 962,\n",
       " 970,\n",
       " 977,\n",
       " 984,\n",
       " 985,\n",
       " 992,\n",
       " 1000,\n",
       " 1013,\n",
       " 1024,\n",
       " 1025,\n",
       " 1033,\n",
       " 1035,\n",
       " 1037,\n",
       " 1057,\n",
       " 1060,\n",
       " 1063,\n",
       " 1065,\n",
       " 1106,\n",
       " 1113,\n",
       " 1121,\n",
       " 1132,\n",
       " 1140,\n",
       " 1146,\n",
       " 1151,\n",
       " 1157,\n",
       " 1166,\n",
       " 1168,\n",
       " 1182,\n",
       " 1198,\n",
       " 1199,\n",
       " 1204,\n",
       " 1206,\n",
       " 1213,\n",
       " 1238,\n",
       " 1248,\n",
       " 1257,\n",
       " 1264,\n",
       " 1267,\n",
       " 1272,\n",
       " 1278,\n",
       " 1281,\n",
       " 1298,\n",
       " 1305,\n",
       " 1320,\n",
       " 1325,\n",
       " 1327,\n",
       " 1329,\n",
       " 1342,\n",
       " 1359,\n",
       " 1373,\n",
       " 1374,\n",
       " 1376,\n",
       " 1386,\n",
       " 1387,\n",
       " 1393,\n",
       " 1396,\n",
       " 1419,\n",
       " 1424,\n",
       " 1426,\n",
       " 1432,\n",
       " 1445,\n",
       " 1446,\n",
       " 1451,\n",
       " 1455,\n",
       " 1460,\n",
       " 1487,\n",
       " 1488,\n",
       " 1490,\n",
       " 1503,\n",
       " 1511,\n",
       " 1520,\n",
       " 1529,\n",
       " 1535,\n",
       " 1542,\n",
       " 1551,\n",
       " 1556,\n",
       " 1560,\n",
       " 1572,\n",
       " 1580,\n",
       " 1584,\n",
       " 1585,\n",
       " 1586,\n",
       " 1592,\n",
       " 1594,\n",
       " 1599,\n",
       " 1606,\n",
       " 1613,\n",
       " 1632,\n",
       " 1636,\n",
       " 1641,\n",
       " 1644,\n",
       " 1646,\n",
       " 1661,\n",
       " 1670,\n",
       " 1673,\n",
       " 1678,\n",
       " 1695,\n",
       " 1697,\n",
       " 1699,\n",
       " 1709,\n",
       " 1722,\n",
       " 1723,\n",
       " 1724,\n",
       " 1726,\n",
       " 1741,\n",
       " 1743,\n",
       " 1746,\n",
       " 1756,\n",
       " 1769,\n",
       " 1780,\n",
       " 1789,\n",
       " 1790,\n",
       " 1803,\n",
       " 1804,\n",
       " 1805,\n",
       " 1808,\n",
       " 1810,\n",
       " 1813,\n",
       " 1827,\n",
       " 1829,\n",
       " 1832,\n",
       " 1837,\n",
       " 1856,\n",
       " 1857,\n",
       " 1858,\n",
       " 1860,\n",
       " 1861,\n",
       " 1865,\n",
       " 1866,\n",
       " 1868,\n",
       " 1869,\n",
       " 1877,\n",
       " 1879,\n",
       " 1882,\n",
       " 1885,\n",
       " 1933,\n",
       " 1937,\n",
       " 1948,\n",
       " 1953,\n",
       " 1961,\n",
       " 1978,\n",
       " 1981,\n",
       " 1983,\n",
       " 1998,\n",
       " 2012]"
      ]
     },
     "execution_count": 22,
     "metadata": {},
     "output_type": "execute_result"
    }
   ],
   "source": [
    "ind = data['item_price'] > up_lim\n",
    "index = data.loc[ind].index.tolist()\n",
    "index"
   ]
  },
  {
   "cell_type": "code",
   "execution_count": 23,
   "id": "9876688f",
   "metadata": {},
   "outputs": [],
   "source": [
    "data.drop(index, inplace = True)"
   ]
  },
  {
   "cell_type": "code",
   "execution_count": 24,
   "id": "71675030",
   "metadata": {},
   "outputs": [
    {
     "data": {
      "text/plain": [
       "(1780, 13)"
      ]
     },
     "execution_count": 24,
     "metadata": {},
     "output_type": "execute_result"
    }
   ],
   "source": [
    "data.shape"
   ]
  },
  {
   "cell_type": "code",
   "execution_count": 25,
   "id": "1d1e2d5c",
   "metadata": {},
   "outputs": [
    {
     "data": {
      "text/plain": [
       "1"
      ]
     },
     "execution_count": 25,
     "metadata": {},
     "output_type": "execute_result"
    }
   ],
   "source": [
    "data['device_type'].nunique()"
   ]
  },
  {
   "cell_type": "code",
   "execution_count": 26,
   "id": "fa3e376e",
   "metadata": {},
   "outputs": [
    {
     "data": {
      "text/plain": [
       "3"
      ]
     },
     "execution_count": 26,
     "metadata": {},
     "output_type": "execute_result"
    }
   ],
   "source": [
    "data['os_version'].nunique()"
   ]
  },
  {
   "cell_type": "markdown",
   "id": "78bf500e",
   "metadata": {},
   "source": [
    "### One Hot Encoding"
   ]
  },
  {
   "cell_type": "code",
   "execution_count": 27,
   "id": "8c729573",
   "metadata": {},
   "outputs": [],
   "source": [
    "df = pd.get_dummies(data)"
   ]
  },
  {
   "cell_type": "code",
   "execution_count": 28,
   "id": "da24af9d",
   "metadata": {},
   "outputs": [
    {
     "data": {
      "text/plain": [
       "(1780, 15)"
      ]
     },
     "execution_count": 28,
     "metadata": {},
     "output_type": "execute_result"
    }
   ],
   "source": [
    "df.shape"
   ]
  },
  {
   "cell_type": "code",
   "execution_count": 29,
   "id": "df83b5e9",
   "metadata": {},
   "outputs": [
    {
     "data": {
      "text/html": [
       "<div>\n",
       "<style scoped>\n",
       "    .dataframe tbody tr th:only-of-type {\n",
       "        vertical-align: middle;\n",
       "    }\n",
       "\n",
       "    .dataframe tbody tr th {\n",
       "        vertical-align: top;\n",
       "    }\n",
       "\n",
       "    .dataframe thead th {\n",
       "        text-align: right;\n",
       "    }\n",
       "</style>\n",
       "<table border=\"1\" class=\"dataframe\">\n",
       "  <thead>\n",
       "    <tr style=\"text-align: right;\">\n",
       "      <th></th>\n",
       "      <th>server_time</th>\n",
       "      <th>user_id</th>\n",
       "      <th>session_id</th>\n",
       "      <th>item_id</th>\n",
       "      <th>item_price</th>\n",
       "      <th>category</th>\n",
       "      <th>product_type</th>\n",
       "      <th>impression_time</th>\n",
       "      <th>app_code</th>\n",
       "      <th>is_4G</th>\n",
       "      <th>is_click</th>\n",
       "      <th>device_type_android</th>\n",
       "      <th>os_version_intermediate</th>\n",
       "      <th>os_version_latest</th>\n",
       "      <th>os_version_old</th>\n",
       "    </tr>\n",
       "  </thead>\n",
       "  <tbody>\n",
       "    <tr>\n",
       "      <th>0</th>\n",
       "      <td>2018-10-18 14:27:00</td>\n",
       "      <td>87862.0</td>\n",
       "      <td>268465.0</td>\n",
       "      <td>44459.0</td>\n",
       "      <td>4602.0</td>\n",
       "      <td>11.0</td>\n",
       "      <td>3040.0</td>\n",
       "      <td>2018-11-15 00:00:00</td>\n",
       "      <td>422.0</td>\n",
       "      <td>0</td>\n",
       "      <td>0</td>\n",
       "      <td>1</td>\n",
       "      <td>0</td>\n",
       "      <td>0</td>\n",
       "      <td>1</td>\n",
       "    </tr>\n",
       "    <tr>\n",
       "      <th>1</th>\n",
       "      <td>2018-10-18 14:27:00</td>\n",
       "      <td>63410.0</td>\n",
       "      <td>268465.0</td>\n",
       "      <td>44459.0</td>\n",
       "      <td>3513.0</td>\n",
       "      <td>12.0</td>\n",
       "      <td>6822.0</td>\n",
       "      <td>2018-11-15 00:01:00</td>\n",
       "      <td>467.0</td>\n",
       "      <td>1</td>\n",
       "      <td>1</td>\n",
       "      <td>1</td>\n",
       "      <td>0</td>\n",
       "      <td>1</td>\n",
       "      <td>0</td>\n",
       "    </tr>\n",
       "    <tr>\n",
       "      <th>2</th>\n",
       "      <td>2018-10-18 14:43:00</td>\n",
       "      <td>71748.0</td>\n",
       "      <td>268465.0</td>\n",
       "      <td>44459.0</td>\n",
       "      <td>825.0</td>\n",
       "      <td>17.0</td>\n",
       "      <td>1619.0</td>\n",
       "      <td>2018-11-15 00:02:00</td>\n",
       "      <td>259.0</td>\n",
       "      <td>1</td>\n",
       "      <td>0</td>\n",
       "      <td>1</td>\n",
       "      <td>1</td>\n",
       "      <td>0</td>\n",
       "      <td>0</td>\n",
       "    </tr>\n",
       "    <tr>\n",
       "      <th>3</th>\n",
       "      <td>2018-10-18 14:46:00</td>\n",
       "      <td>69209.0</td>\n",
       "      <td>268465.0</td>\n",
       "      <td>44459.0</td>\n",
       "      <td>2355.0</td>\n",
       "      <td>13.0</td>\n",
       "      <td>5264.0</td>\n",
       "      <td>2018-11-15 00:02:00</td>\n",
       "      <td>244.0</td>\n",
       "      <td>1</td>\n",
       "      <td>0</td>\n",
       "      <td>1</td>\n",
       "      <td>0</td>\n",
       "      <td>1</td>\n",
       "      <td>0</td>\n",
       "    </tr>\n",
       "    <tr>\n",
       "      <th>4</th>\n",
       "      <td>2018-10-18 14:46:00</td>\n",
       "      <td>62873.0</td>\n",
       "      <td>268465.0</td>\n",
       "      <td>44459.0</td>\n",
       "      <td>1267.0</td>\n",
       "      <td>17.0</td>\n",
       "      <td>10239.0</td>\n",
       "      <td>2018-11-15 00:02:00</td>\n",
       "      <td>473.0</td>\n",
       "      <td>0</td>\n",
       "      <td>0</td>\n",
       "      <td>1</td>\n",
       "      <td>0</td>\n",
       "      <td>1</td>\n",
       "      <td>0</td>\n",
       "    </tr>\n",
       "  </tbody>\n",
       "</table>\n",
       "</div>"
      ],
      "text/plain": [
       "          server_time  user_id  session_id  item_id  item_price  category  \\\n",
       "0 2018-10-18 14:27:00  87862.0    268465.0  44459.0      4602.0      11.0   \n",
       "1 2018-10-18 14:27:00  63410.0    268465.0  44459.0      3513.0      12.0   \n",
       "2 2018-10-18 14:43:00  71748.0    268465.0  44459.0       825.0      17.0   \n",
       "3 2018-10-18 14:46:00  69209.0    268465.0  44459.0      2355.0      13.0   \n",
       "4 2018-10-18 14:46:00  62873.0    268465.0  44459.0      1267.0      17.0   \n",
       "\n",
       "   product_type     impression_time  app_code  is_4G  is_click  \\\n",
       "0        3040.0 2018-11-15 00:00:00     422.0      0         0   \n",
       "1        6822.0 2018-11-15 00:01:00     467.0      1         1   \n",
       "2        1619.0 2018-11-15 00:02:00     259.0      1         0   \n",
       "3        5264.0 2018-11-15 00:02:00     244.0      1         0   \n",
       "4       10239.0 2018-11-15 00:02:00     473.0      0         0   \n",
       "\n",
       "   device_type_android  os_version_intermediate  os_version_latest  \\\n",
       "0                    1                        0                  0   \n",
       "1                    1                        0                  1   \n",
       "2                    1                        1                  0   \n",
       "3                    1                        0                  1   \n",
       "4                    1                        0                  1   \n",
       "\n",
       "   os_version_old  \n",
       "0               1  \n",
       "1               0  \n",
       "2               0  \n",
       "3               0  \n",
       "4               0  "
      ]
     },
     "execution_count": 29,
     "metadata": {},
     "output_type": "execute_result"
    }
   ],
   "source": [
    "df.head()"
   ]
  },
  {
   "cell_type": "markdown",
   "id": "7f9781b5",
   "metadata": {},
   "source": [
    "### Label Encoding"
   ]
  },
  {
   "cell_type": "code",
   "execution_count": 30,
   "id": "26f868f7",
   "metadata": {},
   "outputs": [],
   "source": [
    "from sklearn.preprocessing import LabelEncoder"
   ]
  },
  {
   "cell_type": "code",
   "execution_count": 31,
   "id": "79c3526a",
   "metadata": {},
   "outputs": [],
   "source": [
    "le = LabelEncoder()"
   ]
  },
  {
   "cell_type": "code",
   "execution_count": 32,
   "id": "4eea8f68",
   "metadata": {},
   "outputs": [],
   "source": [
    "df1 = data"
   ]
  },
  {
   "cell_type": "code",
   "execution_count": 33,
   "id": "28b3ed2b",
   "metadata": {},
   "outputs": [],
   "source": [
    "df1['os_version'] = le.fit_transform(df1['os_version'])"
   ]
  },
  {
   "cell_type": "code",
   "execution_count": 34,
   "id": "006313d8",
   "metadata": {},
   "outputs": [
    {
     "data": {
      "text/html": [
       "<div>\n",
       "<style scoped>\n",
       "    .dataframe tbody tr th:only-of-type {\n",
       "        vertical-align: middle;\n",
       "    }\n",
       "\n",
       "    .dataframe tbody tr th {\n",
       "        vertical-align: top;\n",
       "    }\n",
       "\n",
       "    .dataframe thead th {\n",
       "        text-align: right;\n",
       "    }\n",
       "</style>\n",
       "<table border=\"1\" class=\"dataframe\">\n",
       "  <thead>\n",
       "    <tr style=\"text-align: right;\">\n",
       "      <th></th>\n",
       "      <th>server_time</th>\n",
       "      <th>device_type</th>\n",
       "      <th>user_id</th>\n",
       "      <th>session_id</th>\n",
       "      <th>item_id</th>\n",
       "      <th>item_price</th>\n",
       "      <th>category</th>\n",
       "      <th>product_type</th>\n",
       "      <th>impression_time</th>\n",
       "      <th>app_code</th>\n",
       "      <th>os_version</th>\n",
       "      <th>is_4G</th>\n",
       "      <th>is_click</th>\n",
       "    </tr>\n",
       "  </thead>\n",
       "  <tbody>\n",
       "    <tr>\n",
       "      <th>0</th>\n",
       "      <td>2018-10-18 14:27:00</td>\n",
       "      <td>android</td>\n",
       "      <td>87862.0</td>\n",
       "      <td>268465.0</td>\n",
       "      <td>44459.0</td>\n",
       "      <td>4602.0</td>\n",
       "      <td>11.0</td>\n",
       "      <td>3040.0</td>\n",
       "      <td>2018-11-15 00:00:00</td>\n",
       "      <td>422.0</td>\n",
       "      <td>2</td>\n",
       "      <td>0</td>\n",
       "      <td>0</td>\n",
       "    </tr>\n",
       "    <tr>\n",
       "      <th>1</th>\n",
       "      <td>2018-10-18 14:27:00</td>\n",
       "      <td>android</td>\n",
       "      <td>63410.0</td>\n",
       "      <td>268465.0</td>\n",
       "      <td>44459.0</td>\n",
       "      <td>3513.0</td>\n",
       "      <td>12.0</td>\n",
       "      <td>6822.0</td>\n",
       "      <td>2018-11-15 00:01:00</td>\n",
       "      <td>467.0</td>\n",
       "      <td>1</td>\n",
       "      <td>1</td>\n",
       "      <td>1</td>\n",
       "    </tr>\n",
       "    <tr>\n",
       "      <th>2</th>\n",
       "      <td>2018-10-18 14:43:00</td>\n",
       "      <td>android</td>\n",
       "      <td>71748.0</td>\n",
       "      <td>268465.0</td>\n",
       "      <td>44459.0</td>\n",
       "      <td>825.0</td>\n",
       "      <td>17.0</td>\n",
       "      <td>1619.0</td>\n",
       "      <td>2018-11-15 00:02:00</td>\n",
       "      <td>259.0</td>\n",
       "      <td>0</td>\n",
       "      <td>1</td>\n",
       "      <td>0</td>\n",
       "    </tr>\n",
       "    <tr>\n",
       "      <th>3</th>\n",
       "      <td>2018-10-18 14:46:00</td>\n",
       "      <td>android</td>\n",
       "      <td>69209.0</td>\n",
       "      <td>268465.0</td>\n",
       "      <td>44459.0</td>\n",
       "      <td>2355.0</td>\n",
       "      <td>13.0</td>\n",
       "      <td>5264.0</td>\n",
       "      <td>2018-11-15 00:02:00</td>\n",
       "      <td>244.0</td>\n",
       "      <td>1</td>\n",
       "      <td>1</td>\n",
       "      <td>0</td>\n",
       "    </tr>\n",
       "    <tr>\n",
       "      <th>4</th>\n",
       "      <td>2018-10-18 14:46:00</td>\n",
       "      <td>android</td>\n",
       "      <td>62873.0</td>\n",
       "      <td>268465.0</td>\n",
       "      <td>44459.0</td>\n",
       "      <td>1267.0</td>\n",
       "      <td>17.0</td>\n",
       "      <td>10239.0</td>\n",
       "      <td>2018-11-15 00:02:00</td>\n",
       "      <td>473.0</td>\n",
       "      <td>1</td>\n",
       "      <td>0</td>\n",
       "      <td>0</td>\n",
       "    </tr>\n",
       "  </tbody>\n",
       "</table>\n",
       "</div>"
      ],
      "text/plain": [
       "          server_time device_type  user_id  session_id  item_id  item_price  \\\n",
       "0 2018-10-18 14:27:00     android  87862.0    268465.0  44459.0      4602.0   \n",
       "1 2018-10-18 14:27:00     android  63410.0    268465.0  44459.0      3513.0   \n",
       "2 2018-10-18 14:43:00     android  71748.0    268465.0  44459.0       825.0   \n",
       "3 2018-10-18 14:46:00     android  69209.0    268465.0  44459.0      2355.0   \n",
       "4 2018-10-18 14:46:00     android  62873.0    268465.0  44459.0      1267.0   \n",
       "\n",
       "   category  product_type     impression_time  app_code  os_version  is_4G  \\\n",
       "0      11.0        3040.0 2018-11-15 00:00:00     422.0           2      0   \n",
       "1      12.0        6822.0 2018-11-15 00:01:00     467.0           1      1   \n",
       "2      17.0        1619.0 2018-11-15 00:02:00     259.0           0      1   \n",
       "3      13.0        5264.0 2018-11-15 00:02:00     244.0           1      1   \n",
       "4      17.0       10239.0 2018-11-15 00:02:00     473.0           1      0   \n",
       "\n",
       "   is_click  \n",
       "0         0  \n",
       "1         1  \n",
       "2         0  \n",
       "3         0  \n",
       "4         0  "
      ]
     },
     "execution_count": 34,
     "metadata": {},
     "output_type": "execute_result"
    }
   ],
   "source": [
    "df1.head()"
   ]
  },
  {
   "cell_type": "code",
   "execution_count": 35,
   "id": "91de7b02",
   "metadata": {},
   "outputs": [],
   "source": [
    "df1.drop('device_type', axis = 1, inplace = True)"
   ]
  },
  {
   "cell_type": "code",
   "execution_count": 36,
   "id": "95228aab",
   "metadata": {},
   "outputs": [
    {
     "data": {
      "text/html": [
       "<div>\n",
       "<style scoped>\n",
       "    .dataframe tbody tr th:only-of-type {\n",
       "        vertical-align: middle;\n",
       "    }\n",
       "\n",
       "    .dataframe tbody tr th {\n",
       "        vertical-align: top;\n",
       "    }\n",
       "\n",
       "    .dataframe thead th {\n",
       "        text-align: right;\n",
       "    }\n",
       "</style>\n",
       "<table border=\"1\" class=\"dataframe\">\n",
       "  <thead>\n",
       "    <tr style=\"text-align: right;\">\n",
       "      <th></th>\n",
       "      <th>server_time</th>\n",
       "      <th>user_id</th>\n",
       "      <th>session_id</th>\n",
       "      <th>item_id</th>\n",
       "      <th>item_price</th>\n",
       "      <th>category</th>\n",
       "      <th>product_type</th>\n",
       "      <th>impression_time</th>\n",
       "      <th>app_code</th>\n",
       "      <th>os_version</th>\n",
       "      <th>is_4G</th>\n",
       "      <th>is_click</th>\n",
       "    </tr>\n",
       "  </thead>\n",
       "  <tbody>\n",
       "    <tr>\n",
       "      <th>0</th>\n",
       "      <td>2018-10-18 14:27:00</td>\n",
       "      <td>87862.0</td>\n",
       "      <td>268465.0</td>\n",
       "      <td>44459.0</td>\n",
       "      <td>4602.0</td>\n",
       "      <td>11.0</td>\n",
       "      <td>3040.0</td>\n",
       "      <td>2018-11-15 00:00:00</td>\n",
       "      <td>422.0</td>\n",
       "      <td>2</td>\n",
       "      <td>0</td>\n",
       "      <td>0</td>\n",
       "    </tr>\n",
       "    <tr>\n",
       "      <th>1</th>\n",
       "      <td>2018-10-18 14:27:00</td>\n",
       "      <td>63410.0</td>\n",
       "      <td>268465.0</td>\n",
       "      <td>44459.0</td>\n",
       "      <td>3513.0</td>\n",
       "      <td>12.0</td>\n",
       "      <td>6822.0</td>\n",
       "      <td>2018-11-15 00:01:00</td>\n",
       "      <td>467.0</td>\n",
       "      <td>1</td>\n",
       "      <td>1</td>\n",
       "      <td>1</td>\n",
       "    </tr>\n",
       "    <tr>\n",
       "      <th>2</th>\n",
       "      <td>2018-10-18 14:43:00</td>\n",
       "      <td>71748.0</td>\n",
       "      <td>268465.0</td>\n",
       "      <td>44459.0</td>\n",
       "      <td>825.0</td>\n",
       "      <td>17.0</td>\n",
       "      <td>1619.0</td>\n",
       "      <td>2018-11-15 00:02:00</td>\n",
       "      <td>259.0</td>\n",
       "      <td>0</td>\n",
       "      <td>1</td>\n",
       "      <td>0</td>\n",
       "    </tr>\n",
       "    <tr>\n",
       "      <th>3</th>\n",
       "      <td>2018-10-18 14:46:00</td>\n",
       "      <td>69209.0</td>\n",
       "      <td>268465.0</td>\n",
       "      <td>44459.0</td>\n",
       "      <td>2355.0</td>\n",
       "      <td>13.0</td>\n",
       "      <td>5264.0</td>\n",
       "      <td>2018-11-15 00:02:00</td>\n",
       "      <td>244.0</td>\n",
       "      <td>1</td>\n",
       "      <td>1</td>\n",
       "      <td>0</td>\n",
       "    </tr>\n",
       "    <tr>\n",
       "      <th>4</th>\n",
       "      <td>2018-10-18 14:46:00</td>\n",
       "      <td>62873.0</td>\n",
       "      <td>268465.0</td>\n",
       "      <td>44459.0</td>\n",
       "      <td>1267.0</td>\n",
       "      <td>17.0</td>\n",
       "      <td>10239.0</td>\n",
       "      <td>2018-11-15 00:02:00</td>\n",
       "      <td>473.0</td>\n",
       "      <td>1</td>\n",
       "      <td>0</td>\n",
       "      <td>0</td>\n",
       "    </tr>\n",
       "  </tbody>\n",
       "</table>\n",
       "</div>"
      ],
      "text/plain": [
       "          server_time  user_id  session_id  item_id  item_price  category  \\\n",
       "0 2018-10-18 14:27:00  87862.0    268465.0  44459.0      4602.0      11.0   \n",
       "1 2018-10-18 14:27:00  63410.0    268465.0  44459.0      3513.0      12.0   \n",
       "2 2018-10-18 14:43:00  71748.0    268465.0  44459.0       825.0      17.0   \n",
       "3 2018-10-18 14:46:00  69209.0    268465.0  44459.0      2355.0      13.0   \n",
       "4 2018-10-18 14:46:00  62873.0    268465.0  44459.0      1267.0      17.0   \n",
       "\n",
       "   product_type     impression_time  app_code  os_version  is_4G  is_click  \n",
       "0        3040.0 2018-11-15 00:00:00     422.0           2      0         0  \n",
       "1        6822.0 2018-11-15 00:01:00     467.0           1      1         1  \n",
       "2        1619.0 2018-11-15 00:02:00     259.0           0      1         0  \n",
       "3        5264.0 2018-11-15 00:02:00     244.0           1      1         0  \n",
       "4       10239.0 2018-11-15 00:02:00     473.0           1      0         0  "
      ]
     },
     "execution_count": 36,
     "metadata": {},
     "output_type": "execute_result"
    }
   ],
   "source": [
    "df1.head()"
   ]
  },
  {
   "cell_type": "markdown",
   "id": "a3c789a5",
   "metadata": {},
   "source": [
    "### Min Max Scaling"
   ]
  },
  {
   "cell_type": "code",
   "execution_count": 37,
   "id": "9ad99b53",
   "metadata": {},
   "outputs": [],
   "source": [
    "from sklearn.preprocessing import MinMaxScaler"
   ]
  },
  {
   "cell_type": "code",
   "execution_count": 38,
   "id": "b3491654",
   "metadata": {},
   "outputs": [],
   "source": [
    "min_max = MinMaxScaler()"
   ]
  },
  {
   "cell_type": "code",
   "execution_count": 39,
   "id": "24feffdd",
   "metadata": {},
   "outputs": [],
   "source": [
    "x = df[['item_price', 'category', 'product_type', 'app_code']]"
   ]
  },
  {
   "cell_type": "code",
   "execution_count": 40,
   "id": "a3890803",
   "metadata": {},
   "outputs": [
    {
     "data": {
      "text/html": [
       "<div>\n",
       "<style scoped>\n",
       "    .dataframe tbody tr th:only-of-type {\n",
       "        vertical-align: middle;\n",
       "    }\n",
       "\n",
       "    .dataframe tbody tr th {\n",
       "        vertical-align: top;\n",
       "    }\n",
       "\n",
       "    .dataframe thead th {\n",
       "        text-align: right;\n",
       "    }\n",
       "</style>\n",
       "<table border=\"1\" class=\"dataframe\">\n",
       "  <thead>\n",
       "    <tr style=\"text-align: right;\">\n",
       "      <th></th>\n",
       "      <th>item_price</th>\n",
       "      <th>category</th>\n",
       "      <th>product_type</th>\n",
       "      <th>app_code</th>\n",
       "    </tr>\n",
       "  </thead>\n",
       "  <tbody>\n",
       "    <tr>\n",
       "      <th>count</th>\n",
       "      <td>1780.000000</td>\n",
       "      <td>1780.000000</td>\n",
       "      <td>1780.000000</td>\n",
       "      <td>1780.000000</td>\n",
       "    </tr>\n",
       "    <tr>\n",
       "      <th>mean</th>\n",
       "      <td>2774.356180</td>\n",
       "      <td>10.260112</td>\n",
       "      <td>5367.817195</td>\n",
       "      <td>244.220079</td>\n",
       "    </tr>\n",
       "    <tr>\n",
       "      <th>std</th>\n",
       "      <td>2034.199606</td>\n",
       "      <td>4.840605</td>\n",
       "      <td>3077.228638</td>\n",
       "      <td>124.631814</td>\n",
       "    </tr>\n",
       "    <tr>\n",
       "      <th>min</th>\n",
       "      <td>16.000000</td>\n",
       "      <td>0.000000</td>\n",
       "      <td>8.000000</td>\n",
       "      <td>1.000000</td>\n",
       "    </tr>\n",
       "    <tr>\n",
       "      <th>25%</th>\n",
       "      <td>1273.000000</td>\n",
       "      <td>7.000000</td>\n",
       "      <td>2739.500000</td>\n",
       "      <td>190.000000</td>\n",
       "    </tr>\n",
       "    <tr>\n",
       "      <th>50%</th>\n",
       "      <td>2240.000000</td>\n",
       "      <td>11.000000</td>\n",
       "      <td>5403.000000</td>\n",
       "      <td>207.000000</td>\n",
       "    </tr>\n",
       "    <tr>\n",
       "      <th>75%</th>\n",
       "      <td>3713.250000</td>\n",
       "      <td>13.000000</td>\n",
       "      <td>8121.000000</td>\n",
       "      <td>371.000000</td>\n",
       "    </tr>\n",
       "    <tr>\n",
       "      <th>max</th>\n",
       "      <td>9780.000000</td>\n",
       "      <td>17.000000</td>\n",
       "      <td>10573.000000</td>\n",
       "      <td>508.000000</td>\n",
       "    </tr>\n",
       "  </tbody>\n",
       "</table>\n",
       "</div>"
      ],
      "text/plain": [
       "        item_price     category  product_type     app_code\n",
       "count  1780.000000  1780.000000   1780.000000  1780.000000\n",
       "mean   2774.356180    10.260112   5367.817195   244.220079\n",
       "std    2034.199606     4.840605   3077.228638   124.631814\n",
       "min      16.000000     0.000000      8.000000     1.000000\n",
       "25%    1273.000000     7.000000   2739.500000   190.000000\n",
       "50%    2240.000000    11.000000   5403.000000   207.000000\n",
       "75%    3713.250000    13.000000   8121.000000   371.000000\n",
       "max    9780.000000    17.000000  10573.000000   508.000000"
      ]
     },
     "execution_count": 40,
     "metadata": {},
     "output_type": "execute_result"
    }
   ],
   "source": [
    "x.describe()"
   ]
  },
  {
   "cell_type": "code",
   "execution_count": 41,
   "id": "6bd09dd5",
   "metadata": {},
   "outputs": [],
   "source": [
    "x1 = min_max.fit_transform(x)"
   ]
  },
  {
   "cell_type": "markdown",
   "id": "5a541abf",
   "metadata": {},
   "source": [
    "#### <font color = blue> The variable will be converted into a array after scaling. So we need to convert it into dataframe."
   ]
  },
  {
   "cell_type": "code",
   "execution_count": 42,
   "id": "a76aebcc",
   "metadata": {},
   "outputs": [],
   "source": [
    "x1 = pd.DataFrame(x1, columns = ['item_price', 'category', 'product_type', 'app_code'])"
   ]
  },
  {
   "cell_type": "code",
   "execution_count": 43,
   "id": "12fc7ad5",
   "metadata": {},
   "outputs": [
    {
     "data": {
      "text/html": [
       "<div>\n",
       "<style scoped>\n",
       "    .dataframe tbody tr th:only-of-type {\n",
       "        vertical-align: middle;\n",
       "    }\n",
       "\n",
       "    .dataframe tbody tr th {\n",
       "        vertical-align: top;\n",
       "    }\n",
       "\n",
       "    .dataframe thead th {\n",
       "        text-align: right;\n",
       "    }\n",
       "</style>\n",
       "<table border=\"1\" class=\"dataframe\">\n",
       "  <thead>\n",
       "    <tr style=\"text-align: right;\">\n",
       "      <th></th>\n",
       "      <th>item_price</th>\n",
       "      <th>category</th>\n",
       "      <th>product_type</th>\n",
       "      <th>app_code</th>\n",
       "    </tr>\n",
       "  </thead>\n",
       "  <tbody>\n",
       "    <tr>\n",
       "      <th>count</th>\n",
       "      <td>1780.000000</td>\n",
       "      <td>1780.000000</td>\n",
       "      <td>1780.000000</td>\n",
       "      <td>1780.000000</td>\n",
       "    </tr>\n",
       "    <tr>\n",
       "      <th>mean</th>\n",
       "      <td>0.282503</td>\n",
       "      <td>0.603536</td>\n",
       "      <td>0.507318</td>\n",
       "      <td>0.479724</td>\n",
       "    </tr>\n",
       "    <tr>\n",
       "      <th>std</th>\n",
       "      <td>0.208337</td>\n",
       "      <td>0.284741</td>\n",
       "      <td>0.291266</td>\n",
       "      <td>0.245822</td>\n",
       "    </tr>\n",
       "    <tr>\n",
       "      <th>min</th>\n",
       "      <td>0.000000</td>\n",
       "      <td>0.000000</td>\n",
       "      <td>0.000000</td>\n",
       "      <td>0.000000</td>\n",
       "    </tr>\n",
       "    <tr>\n",
       "      <th>25%</th>\n",
       "      <td>0.128738</td>\n",
       "      <td>0.411765</td>\n",
       "      <td>0.258542</td>\n",
       "      <td>0.372781</td>\n",
       "    </tr>\n",
       "    <tr>\n",
       "      <th>50%</th>\n",
       "      <td>0.227776</td>\n",
       "      <td>0.647059</td>\n",
       "      <td>0.510648</td>\n",
       "      <td>0.406312</td>\n",
       "    </tr>\n",
       "    <tr>\n",
       "      <th>75%</th>\n",
       "      <td>0.378661</td>\n",
       "      <td>0.764706</td>\n",
       "      <td>0.767913</td>\n",
       "      <td>0.729783</td>\n",
       "    </tr>\n",
       "    <tr>\n",
       "      <th>max</th>\n",
       "      <td>1.000000</td>\n",
       "      <td>1.000000</td>\n",
       "      <td>1.000000</td>\n",
       "      <td>1.000000</td>\n",
       "    </tr>\n",
       "  </tbody>\n",
       "</table>\n",
       "</div>"
      ],
      "text/plain": [
       "        item_price     category  product_type     app_code\n",
       "count  1780.000000  1780.000000   1780.000000  1780.000000\n",
       "mean      0.282503     0.603536      0.507318     0.479724\n",
       "std       0.208337     0.284741      0.291266     0.245822\n",
       "min       0.000000     0.000000      0.000000     0.000000\n",
       "25%       0.128738     0.411765      0.258542     0.372781\n",
       "50%       0.227776     0.647059      0.510648     0.406312\n",
       "75%       0.378661     0.764706      0.767913     0.729783\n",
       "max       1.000000     1.000000      1.000000     1.000000"
      ]
     },
     "execution_count": 43,
     "metadata": {},
     "output_type": "execute_result"
    }
   ],
   "source": [
    "x1.describe()"
   ]
  },
  {
   "cell_type": "markdown",
   "id": "b2a7589e",
   "metadata": {},
   "source": [
    "### Standard Scaling"
   ]
  },
  {
   "cell_type": "code",
   "execution_count": 44,
   "id": "7efba8cb",
   "metadata": {},
   "outputs": [],
   "source": [
    "from sklearn.preprocessing import StandardScaler"
   ]
  },
  {
   "cell_type": "code",
   "execution_count": 45,
   "id": "d3100b16",
   "metadata": {},
   "outputs": [],
   "source": [
    "std_scl = StandardScaler()"
   ]
  },
  {
   "cell_type": "code",
   "execution_count": 46,
   "id": "54039543",
   "metadata": {},
   "outputs": [],
   "source": [
    "x2 = std_scl.fit_transform(x)"
   ]
  },
  {
   "cell_type": "markdown",
   "id": "1478a6e8",
   "metadata": {},
   "source": [
    "#### <font color = blue> The variable will be converted into a array after scaling. So we need to convert it into dataframe."
   ]
  },
  {
   "cell_type": "code",
   "execution_count": 47,
   "id": "792c3d7b",
   "metadata": {},
   "outputs": [],
   "source": [
    "x2 = pd.DataFrame(x2, columns = ['item_price', 'category', 'product_type', 'app_code'])"
   ]
  },
  {
   "cell_type": "code",
   "execution_count": 48,
   "id": "ad4fd832",
   "metadata": {},
   "outputs": [
    {
     "data": {
      "text/html": [
       "<div>\n",
       "<style scoped>\n",
       "    .dataframe tbody tr th:only-of-type {\n",
       "        vertical-align: middle;\n",
       "    }\n",
       "\n",
       "    .dataframe tbody tr th {\n",
       "        vertical-align: top;\n",
       "    }\n",
       "\n",
       "    .dataframe thead th {\n",
       "        text-align: right;\n",
       "    }\n",
       "</style>\n",
       "<table border=\"1\" class=\"dataframe\">\n",
       "  <thead>\n",
       "    <tr style=\"text-align: right;\">\n",
       "      <th></th>\n",
       "      <th>item_price</th>\n",
       "      <th>category</th>\n",
       "      <th>product_type</th>\n",
       "      <th>app_code</th>\n",
       "    </tr>\n",
       "  </thead>\n",
       "  <tbody>\n",
       "    <tr>\n",
       "      <th>count</th>\n",
       "      <td>1780.000000</td>\n",
       "      <td>1.780000e+03</td>\n",
       "      <td>1.780000e+03</td>\n",
       "      <td>1.780000e+03</td>\n",
       "    </tr>\n",
       "    <tr>\n",
       "      <th>mean</th>\n",
       "      <td>0.000000</td>\n",
       "      <td>1.097749e-16</td>\n",
       "      <td>2.604658e-16</td>\n",
       "      <td>-2.594679e-17</td>\n",
       "    </tr>\n",
       "    <tr>\n",
       "      <th>std</th>\n",
       "      <td>1.000281</td>\n",
       "      <td>1.000281e+00</td>\n",
       "      <td>1.000281e+00</td>\n",
       "      <td>1.000281e+00</td>\n",
       "    </tr>\n",
       "    <tr>\n",
       "      <th>min</th>\n",
       "      <td>-1.356372</td>\n",
       "      <td>-2.120188e+00</td>\n",
       "      <td>-1.742257e+00</td>\n",
       "      <td>-1.952057e+00</td>\n",
       "    </tr>\n",
       "    <tr>\n",
       "      <th>25%</th>\n",
       "      <td>-0.738265</td>\n",
       "      <td>-6.736820e-01</td>\n",
       "      <td>-8.543583e-01</td>\n",
       "      <td>-4.351643e-01</td>\n",
       "    </tr>\n",
       "    <tr>\n",
       "      <th>50%</th>\n",
       "      <td>-0.262760</td>\n",
       "      <td>1.528932e-01</td>\n",
       "      <td>1.143649e-02</td>\n",
       "      <td>-2.987242e-01</td>\n",
       "    </tr>\n",
       "    <tr>\n",
       "      <th>75%</th>\n",
       "      <td>0.461684</td>\n",
       "      <td>5.661808e-01</td>\n",
       "      <td>8.949470e-01</td>\n",
       "      <td>1.017521e+00</td>\n",
       "    </tr>\n",
       "    <tr>\n",
       "      <th>max</th>\n",
       "      <td>3.444899</td>\n",
       "      <td>1.392756e+00</td>\n",
       "      <td>1.691992e+00</td>\n",
       "      <td>2.117068e+00</td>\n",
       "    </tr>\n",
       "  </tbody>\n",
       "</table>\n",
       "</div>"
      ],
      "text/plain": [
       "        item_price      category  product_type      app_code\n",
       "count  1780.000000  1.780000e+03  1.780000e+03  1.780000e+03\n",
       "mean      0.000000  1.097749e-16  2.604658e-16 -2.594679e-17\n",
       "std       1.000281  1.000281e+00  1.000281e+00  1.000281e+00\n",
       "min      -1.356372 -2.120188e+00 -1.742257e+00 -1.952057e+00\n",
       "25%      -0.738265 -6.736820e-01 -8.543583e-01 -4.351643e-01\n",
       "50%      -0.262760  1.528932e-01  1.143649e-02 -2.987242e-01\n",
       "75%       0.461684  5.661808e-01  8.949470e-01  1.017521e+00\n",
       "max       3.444899  1.392756e+00  1.691992e+00  2.117068e+00"
      ]
     },
     "execution_count": 48,
     "metadata": {},
     "output_type": "execute_result"
    }
   ],
   "source": [
    "x2.describe()"
   ]
  },
  {
   "cell_type": "code",
   "execution_count": null,
   "id": "028f3999",
   "metadata": {},
   "outputs": [],
   "source": []
  }
 ],
 "metadata": {
  "kernelspec": {
   "display_name": "Python 3 (ipykernel)",
   "language": "python",
   "name": "python3"
  },
  "language_info": {
   "codemirror_mode": {
    "name": "ipython",
    "version": 3
   },
   "file_extension": ".py",
   "mimetype": "text/x-python",
   "name": "python",
   "nbconvert_exporter": "python",
   "pygments_lexer": "ipython3",
   "version": "3.10.9"
  }
 },
 "nbformat": 4,
 "nbformat_minor": 5
}
